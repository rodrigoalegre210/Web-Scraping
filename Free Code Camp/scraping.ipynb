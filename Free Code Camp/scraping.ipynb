{
 "cells": [
  {
   "cell_type": "code",
   "execution_count": 1,
   "metadata": {},
   "outputs": [],
   "source": [
    "# Importamos las librerías.\n",
    "from bs4 import BeautifulSoup\n",
    "import requests"
   ]
  },
  {
   "cell_type": "markdown",
   "metadata": {},
   "source": [
    "# Scraping"
   ]
  },
  {
   "cell_type": "code",
   "execution_count": 2,
   "metadata": {},
   "outputs": [],
   "source": [
    "# 1. Obtenemos el HTML\n",
    "URL_BASE = 'https://scrapepark.org/courses/spanish/'\n",
    "pedido_obtenido = requests.get(URL_BASE)\n",
    "html_obtenido = pedido_obtenido.text\n",
    "\n",
    "# 2. \"Parsear\" ese HTML\n",
    "soup = BeautifulSoup(html_obtenido, \"html.parser\")"
   ]
  },
  {
   "cell_type": "markdown",
   "metadata": {},
   "source": [
    "### El método **find()**\n",
    "\n",
    "Permite quedarnos con la información asociada a una etiqueta de HTML"
   ]
  },
  {
   "cell_type": "code",
   "execution_count": 3,
   "metadata": {},
   "outputs": [
    {
     "name": "stdout",
     "output_type": "stream",
     "text": [
      "<h2>¿Por qué comprar con nosotros?</h2>\n"
     ]
    }
   ],
   "source": [
    "primer_h2 = soup.find('h2')\n",
    "print(primer_h2)"
   ]
  },
  {
   "cell_type": "code",
   "execution_count": 4,
   "metadata": {},
   "outputs": [
    {
     "name": "stdout",
     "output_type": "stream",
     "text": [
      "¿Por qué comprar con nosotros?\n",
      "¿Por qué comprar con nosotros?\n"
     ]
    }
   ],
   "source": [
    "# Solo el texto.\n",
    "print(primer_h2.text)\n",
    "\n",
    "# Equivalente a: \n",
    "print(soup.h2.text)"
   ]
  },
  {
   "cell_type": "markdown",
   "metadata": {},
   "source": [
    "### El método **find()**\n",
    "\n",
    "Busca **TODOS** los elementos de la página con esa etiqueta y devuelve una \"lista\" que los contiene (en realidad devuelve un objeto de la clase bs4.element.ResultSet)."
   ]
  },
  {
   "cell_type": "code",
   "execution_count": 5,
   "metadata": {},
   "outputs": [
    {
     "name": "stdout",
     "output_type": "stream",
     "text": [
      "[<h2>¿Por qué comprar con nosotros?</h2>, <h2>\n",
      "                  #Novedades\n",
      "                </h2>, <h2>\n",
      "            Nuestros <span>productos</span>\n",
      "</h2>, <h2>\n",
      "            Testimonios de clientes\n",
      "          </h2>, <h2 class=\"heading-container\">\n",
      "          Tabla de precios\n",
      "        </h2>]\n"
     ]
    }
   ],
   "source": [
    "h2_todos = soup.find_all('h2')\n",
    "print(h2_todos)"
   ]
  },
  {
   "cell_type": "code",
   "execution_count": 6,
   "metadata": {},
   "outputs": [
    {
     "name": "stdout",
     "output_type": "stream",
     "text": [
      "[<h2>¿Por qué comprar con nosotros?</h2>]\n"
     ]
    }
   ],
   "source": [
    "# Si usamos el parámetro limit = 1, emulamos al metodo find\n",
    "h2_uno_solo = soup.find_all('h2', limit = 1)\n",
    "print(h2_uno_solo)"
   ]
  },
  {
   "cell_type": "code",
   "execution_count": 7,
   "metadata": {},
   "outputs": [
    {
     "name": "stdout",
     "output_type": "stream",
     "text": [
      "¿Por qué comprar con nosotros?\n",
      "\n",
      "                  #Novedades\n",
      "                \n",
      "\n",
      "            Nuestros productos\n",
      "\n",
      "\n",
      "            Testimonios de clientes\n",
      "          \n",
      "\n",
      "          Tabla de precios\n",
      "        \n"
     ]
    }
   ],
   "source": [
    "# Podemos iterar sobre el objeto.\n",
    "for seccion in h2_todos:\n",
    "    print(seccion.text)"
   ]
  },
  {
   "cell_type": "code",
   "execution_count": 8,
   "metadata": {},
   "outputs": [
    {
     "name": "stdout",
     "output_type": "stream",
     "text": [
      "¿Por qué comprar con nosotros?\n",
      "#Novedades\n",
      "Nuestrosproductos\n",
      "Testimonios de clientes\n",
      "Tabla de precios\n"
     ]
    }
   ],
   "source": [
    "# get_text() para más funcionalidades.\n",
    "for seccion in h2_todos:\n",
    "    print(seccion.get_text(strip = True)) # Limpiamos los espacios en blanco."
   ]
  },
  {
   "cell_type": "markdown",
   "metadata": {},
   "source": [
    "### Utilizando atributos de la página."
   ]
  },
  {
   "cell_type": "code",
   "execution_count": 9,
   "metadata": {},
   "outputs": [
    {
     "name": "stdout",
     "output_type": "stream",
     "text": [
      "<div class=\"heading-container heading-center\" id=\"acerca\">\n",
      "<h2>¿Por qué comprar con nosotros?</h2>\n",
      "</div>\n",
      "\n",
      "\n",
      "<div class=\"heading-container heading-center\" id=\"productos\">\n",
      "<h2>\n",
      "            Nuestros <span>productos</span>\n",
      "</h2>\n",
      "</div>\n",
      "\n",
      "\n",
      "<div class=\"heading-container heading-center\">\n",
      "<h3>Suscríbete para obtener descuentos y ofertas</h3>\n",
      "</div>\n",
      "\n",
      "\n",
      "<div class=\"heading-container heading-center\">\n",
      "<h2>\n",
      "            Testimonios de clientes\n",
      "          </h2>\n",
      "</div>\n",
      "\n",
      "\n"
     ]
    }
   ],
   "source": [
    "# Clase.\n",
    "divs = soup.find_all('div', class_ = \"heading-container heading-center\")\n",
    "\n",
    "for div in divs:\n",
    "    print(div)\n",
    "    print('\\n')"
   ]
  },
  {
   "cell_type": "code",
   "execution_count": 10,
   "metadata": {},
   "outputs": [
    {
     "name": "stdout",
     "output_type": "stream",
     "text": [
      "<img alt=\"Parque de patinaje\" src=\"images/slider-bg.jpg\"/>\n",
      "<img alt=\"Patineta 2\" src=\"images/p2.jpg\"/>\n"
     ]
    }
   ],
   "source": [
    "# Todas las etiquetas que tengan el atributo \"src\".\n",
    "src_todos = soup.find_all(src = True)\n",
    "\n",
    "for elemento in src_todos:\n",
    "    if elemento['src'].endswith('.jpg'):\n",
    "        print(elemento)"
   ]
  },
  {
   "cell_type": "markdown",
   "metadata": {},
   "source": [
    "Bajamos todas las imágenes."
   ]
  },
  {
   "cell_type": "code",
   "execution_count": 11,
   "metadata": {},
   "outputs": [
    {
     "name": "stdout",
     "output_type": "stream",
     "text": [
      "images/arrival-bg-store.png\n",
      "images/p1.png\n",
      "images/p3.png\n",
      "images/p4.png\n",
      "images/p5.png\n",
      "images/p6.png\n",
      "images/p7.png\n",
      "images/p8.png\n",
      "images/p9.png\n",
      "images/p10.png\n",
      "images/p11.png\n",
      "images/p12.png\n",
      "images/client-one.png\n",
      "images/client-two.png\n",
      "images/client-three.png\n",
      "./images/freecodecamp-logo.png\n"
     ]
    }
   ],
   "source": [
    "url_imagenes = []\n",
    "\n",
    "for i, imagen in enumerate(src_todos):\n",
    "    if imagen['src'].endswith('png'):\n",
    "        print(imagen['src'])\n",
    "        r = requests.get(f'https://scrapepark.org/courses/spanish/{imagen['src']}')\n",
    "\n",
    "        with open(f'imagen_{i}.png', 'wb') as f:\n",
    "            f.write(r.content)"
   ]
  },
  {
   "cell_type": "code",
   "execution_count": 12,
   "metadata": {},
   "outputs": [
    {
     "name": "stdout",
     "output_type": "stream",
     "text": [
      "['Longboard', '$80', '$85', '$90', '$62', '$150']\n"
     ]
    }
   ],
   "source": [
    "# Información de tablas.\n",
    "URL_BASE = 'https://scrapepark.org/courses/spanish'\n",
    "URL_TABLA = soup.find_all('iframe')[0]['src']\n",
    "\n",
    "requests_tabla = requests.get(f'{URL_BASE}/{URL_TABLA}')\n",
    "\n",
    "html_tabla = requests_tabla.text\n",
    "soup_tabla = BeautifulSoup(html_tabla, 'html.parser')\n",
    "soup_tabla.find('tabla')\n",
    "\n",
    "productos_faltantes = soup_tabla.find_all(['th', 'td'], attrs = {'style': 'color: red;'})\n",
    "productos_faltantes = [talle.text for talle in productos_faltantes]\n",
    "\n",
    "print(productos_faltantes)"
   ]
  },
  {
   "cell_type": "code",
   "execution_count": 13,
   "metadata": {},
   "outputs": [
    {
     "name": "stdout",
     "output_type": "stream",
     "text": [
      "Producto: Patineta Nueva 1  | Precio: 75\n",
      "Producto: Patineta Usada 2  | Precio: 80\n",
      "Producto: Patineta Nueva 3  | Precio: 68\n",
      "Producto: Patineta Usada 4  | Precio: 70\n",
      "Producto: Patineta Nueva 5  | Precio: 75\n",
      "Producto: Patineta Nueva 6  | Precio: 58\n",
      "Producto: Patineta Nueva 7  | Precio: 80\n",
      "Producto: Patineta Nueva 8  | Precio: 35\n",
      "Producto: Patineta Nueva 9  | Precio: 165\n",
      "Producto: Patineta Usada 10 | Precio: 54\n",
      "Producto: Patineta Usada 11 | Precio: 99\n",
      "Producto: Patineta Nueva 12 | Precio: 110\n"
     ]
    }
   ],
   "source": [
    "divs = soup.find_all('div', class_ = 'detail-box')\n",
    "\n",
    "nombre_producto = []\n",
    "precio_producto = []\n",
    "\n",
    "for div in divs:\n",
    "    if (div.h6 is not None) and ('Patineta' in div.h5.text):\n",
    "        producto = div.h5.get_text(strip = True)\n",
    "        precio = div.h6.get_text(strip = True).replace('$', '')\n",
    "\n",
    "        print(f'Producto: {producto:<17} | Precio: {precio}')\n",
    "        nombre_producto.append(producto)\n",
    "        precio_producto.append(precio)"
   ]
  },
  {
   "cell_type": "markdown",
   "metadata": {},
   "source": [
    "Cambios que dependen de la URL"
   ]
  },
  {
   "cell_type": "code",
   "execution_count": 14,
   "metadata": {},
   "outputs": [
    {
     "name": "stdout",
     "output_type": "stream",
     "text": [
      "https://scrapepark.org/courses/spanish/contact1\n",
      "Texto que cambia entre páginas en contacto 1 :)\n",
      "https://scrapepark.org/courses/spanish/contact2\n",
      "Texto que cambia entre páginas en contacto 2 :)\n"
     ]
    }
   ],
   "source": [
    "URL_BASE = 'https://scrapepark.org/courses/spanish/contact'\n",
    "\n",
    "for i in range(1, 3):\n",
    "    URL_FINAL = f\"{URL_BASE}{i}\"\n",
    "    print(URL_FINAL)\n",
    "    r = requests.get(URL_FINAL)\n",
    "    soup = BeautifulSoup(r.text, \"html.parser\")\n",
    "    print(soup.h5.text)"
   ]
  },
  {
   "cell_type": "markdown",
   "metadata": {},
   "source": [
    "Datos que no sabemos en que parte de la página se encuentran."
   ]
  },
  {
   "cell_type": "code",
   "execution_count": 15,
   "metadata": {},
   "outputs": [
    {
     "data": {
      "text/plain": [
       "[' 4-444-4444']"
      ]
     },
     "execution_count": 15,
     "metadata": {},
     "output_type": "execute_result"
    }
   ],
   "source": [
    "# Expresiones regulares.\n",
    "import re\n",
    "\n",
    "# Obtenemos el HTML\n",
    "URL_BASE = 'https://scrapepark.org/courses/spanish'\n",
    "pedido_obtenido = requests.get(URL_BASE)\n",
    "html_obtenido = pedido_obtenido.text\n",
    "\n",
    "# Parseamos el HTML\n",
    "soup = BeautifulSoup(html_obtenido, \"html.parser\")\n",
    "\n",
    "telefonos = soup.find_all(string = re.compile(r\"\\d+-\\d+-\\d+\"))\n",
    "telefonos"
   ]
  },
  {
   "cell_type": "markdown",
   "metadata": {},
   "source": [
    "Moviéndonos por el árbol."
   ]
  },
  {
   "cell_type": "code",
   "execution_count": 16,
   "metadata": {},
   "outputs": [
    {
     "data": {
      "text/plain": [
       "'© 2022 '"
      ]
     },
     "execution_count": 16,
     "metadata": {},
     "output_type": "execute_result"
    }
   ],
   "source": [
    "copyrights = soup.find_all(string = re.compile('©'))\n",
    "copyrights[0]"
   ]
  },
  {
   "cell_type": "code",
   "execution_count": 17,
   "metadata": {},
   "outputs": [
    {
     "data": {
      "text/plain": [
       "<p>© 2022 <span>Todos los derechos reservados</span>.\n",
       "        <a href=\"https://html.design/\" rel=\"noopener noreferrer\" target=\"_blank\">Creado con Free Html Templates</a>.\n",
       "      </p>"
      ]
     },
     "execution_count": 17,
     "metadata": {},
     "output_type": "execute_result"
    }
   ],
   "source": [
    "primer_copyright = copyrights[0]\n",
    "primer_copyright.parent"
   ]
  },
  {
   "cell_type": "code",
   "execution_count": 18,
   "metadata": {},
   "outputs": [
    {
     "data": {
      "text/plain": [
       "[<ul>\n",
       " <li><a href=\"#\">Inicio</a></li>\n",
       " <li><a href=\"#\">Acerca</a></li>\n",
       " <li><a href=\"#\">Servicios</a></li>\n",
       " <li><a href=\"#\">Testimonios</a></li>\n",
       " <li><a href=\"#\">Contacto</a></li>\n",
       " </ul>]"
      ]
     },
     "execution_count": 18,
     "metadata": {},
     "output_type": "execute_result"
    }
   ],
   "source": [
    "menu = soup.find(string = re.compile('MENÚ'))\n",
    "menu.parent.find_next_siblings()"
   ]
  },
  {
   "cell_type": "markdown",
   "metadata": {},
   "source": [
    "Comentario sobre excepciones."
   ]
  },
  {
   "cell_type": "code",
   "execution_count": 19,
   "metadata": {},
   "outputs": [
    {
     "name": "stdout",
     "output_type": "stream",
     "text": [
      "MENÚ\n",
      "© 2022 \n",
      "El string \"Helado\" no fue encontrado\n",
      "\n",
      "                  Patineta Nueva 1\n",
      "                \n"
     ]
    }
   ],
   "source": [
    "strings_a_buscar = ['MENÚ', '©', 'Helado', 'Patineta']\n",
    "\n",
    "for string in strings_a_buscar:\n",
    "\n",
    "    try:\n",
    "        resultado = soup.find(string = re.compile(string))\n",
    "        print(resultado.text)\n",
    "\n",
    "    except AttributeError:\n",
    "        print(f'El string \"{string}\" no fue encontrado')"
   ]
  },
  {
   "cell_type": "markdown",
   "metadata": {},
   "source": [
    "Guardamos los datos."
   ]
  },
  {
   "cell_type": "code",
   "execution_count": 20,
   "metadata": {},
   "outputs": [],
   "source": [
    "nombre_producto.insert(0, 'productos')\n",
    "precio_producto.insert(0, 'precios')\n",
    "\n",
    "datos = dict(zip(nombre_producto, precio_producto))"
   ]
  },
  {
   "cell_type": "code",
   "execution_count": 21,
   "metadata": {},
   "outputs": [],
   "source": [
    "import csv\n",
    "\n",
    "with open('datos.csv', 'w') as f:\n",
    "    w = csv.writer(f)\n",
    "    w.writerows(datos.items())"
   ]
  },
  {
   "cell_type": "markdown",
   "metadata": {},
   "source": [
    "**Ejercicios**:\n",
    "\n",
    "1. Las patinetas que valgan menos que $68\n",
    "2. Las patinetas que en su nombre tengan un número superior a 3\n",
    "3. Traer cualquier texto de la página que tenga la palabra descuento u oferta.\n",
    "4. Gnerar un archivo .csv con dos columnas: Una columna que contenga el nombre del cliente y la otra columna que contenga su reseña."
   ]
  },
  {
   "cell_type": "code",
   "execution_count": 22,
   "metadata": {},
   "outputs": [],
   "source": [
    "URL_BASE = 'https://scrapepark.org/courses/spanish/'\n",
    "pedido_obtenido = requests.get(URL_BASE)\n",
    "html_obtenido = pedido_obtenido.text\n",
    "\n",
    "soup = BeautifulSoup(html_obtenido, \"html.parser\")"
   ]
  },
  {
   "cell_type": "code",
   "execution_count": 35,
   "metadata": {},
   "outputs": [
    {
     "name": "stdout",
     "output_type": "stream",
     "text": [
      "68\n",
      "58\n",
      "35\n",
      "54\n"
     ]
    }
   ],
   "source": [
    "# 1. Obtenemos las patinetas que valgan menos que $68\n",
    "\n",
    "nombre_patineta = []\n",
    "precio_patineta = []\n",
    "\n",
    "for div in divs:\n",
    "    if (div.h6 is not None) and ('Patineta' in div.h5.text):\n",
    "        patineta = div.h5.get_text(strip = True)\n",
    "        precio = div.h6.get_text(strip = True).replace('$', '')\n",
    "\n",
    "        precio = int(precio)\n",
    "        "
   ]
  },
  {
   "cell_type": "code",
   "execution_count": 30,
   "metadata": {},
   "outputs": [
    {
     "ename": "TypeError",
     "evalue": "unsupported format string passed to list.__format__",
     "output_type": "error",
     "traceback": [
      "\u001b[1;31m---------------------------------------------------------------------------\u001b[0m",
      "\u001b[1;31mTypeError\u001b[0m                                 Traceback (most recent call last)",
      "Cell \u001b[1;32mIn[30], line 1\u001b[0m\n\u001b[1;32m----> 1\u001b[0m \u001b[38;5;28mprint\u001b[39m(\u001b[38;5;124mf\u001b[39m\u001b[38;5;124m'\u001b[39m\u001b[38;5;124mProducto: \u001b[39m\u001b[38;5;132;01m{\u001b[39;00mnombre_patineta\u001b[38;5;132;01m:\u001b[39;00m\u001b[38;5;124m<17\u001b[39m\u001b[38;5;132;01m}\u001b[39;00m\u001b[38;5;124m | Precio: \u001b[39m\u001b[38;5;132;01m{\u001b[39;00mprecio_patineta\u001b[38;5;132;01m}\u001b[39;00m\u001b[38;5;124m'\u001b[39m)\n",
      "\u001b[1;31mTypeError\u001b[0m: unsupported format string passed to list.__format__"
     ]
    }
   ],
   "source": [
    "print(f'Producto: {nombre_patineta:<17} | Precio: {precio_patineta}')"
   ]
  }
 ],
 "metadata": {
  "kernelspec": {
   "display_name": "Python 3",
   "language": "python",
   "name": "python3"
  },
  "language_info": {
   "codemirror_mode": {
    "name": "ipython",
    "version": 3
   },
   "file_extension": ".py",
   "mimetype": "text/x-python",
   "name": "python",
   "nbconvert_exporter": "python",
   "pygments_lexer": "ipython3",
   "version": "3.13.1"
  }
 },
 "nbformat": 4,
 "nbformat_minor": 2
}
